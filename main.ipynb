{
 "cells": [
  {
   "cell_type": "code",
   "execution_count": null,
   "id": "c957cddf",
   "metadata": {
    "vscode": {
     "languageId": "r"
    }
   },
   "outputs": [],
   "source": [
    "print(\"olá mundo\")"
   ]
  },
  {
   "cell_type": "code",
   "execution_count": null,
   "id": "e67eeca5",
   "metadata": {
    "vscode": {
     "languageId": "r"
    }
   },
   "outputs": [],
   "source": [
    "install.packages(\"tidyverse\")\n",
    "install.packages(\"cluster\")\n",
    "install.packages(\"factoextra\")"
   ]
  },
  {
   "cell_type": "code",
   "execution_count": null,
   "id": "abb4f4b3",
   "metadata": {
    "vscode": {
     "languageId": "r"
    }
   },
   "outputs": [],
   "source": [
    "library(tidyverse)\n",
    "library(cluster)\n",
    "library(factoextra)\n",
    "\n",
    "\n",
    "# Criar um conjunto de dados fictícios\n",
    "\n",
    "set.seed(123) # para reprodutibilidade\n",
    "\n",
    "clientes <- data.frame(\n",
    "    Idade = sample(18:70, 100, replace = TRUE),\n",
    "    Renda_Anual = sample(20:150, 100, replace = TRUE),\n",
    "    Pontuacao_Credido = sample(300:850, 100, replace = TRUE),\n",
    "    Saldo_Medio = sample(0:100, 100, replace = TRUE)\n",
    ")\n",
    "\n",
    "# Visualizar as primeiras linhas do conjuto de dados\n",
    "\n",
    "print(head(clientes))"
   ]
  },
  {
   "cell_type": "code",
   "execution_count": null,
   "id": "3d30298a",
   "metadata": {
    "vscode": {
     "languageId": "r"
    }
   },
   "outputs": [],
   "source": [
    "# Pré-processamento de dados\n",
    "\n",
    "# Padronizar os dados (z-score)\n",
    "\n",
    "clientes_scaled <- scale(clientes)\n",
    "\n",
    "#vizualizar as primeiras linhas dos dados padronizados\n",
    "\n",
    "print(head(clientes))\n"
   ]
  },
  {
   "cell_type": "code",
   "execution_count": null,
   "id": "0c876a05",
   "metadata": {
    "vscode": {
     "languageId": "r"
    }
   },
   "outputs": [],
   "source": [
    "# Determinar o número ótimo de clientes\n",
    "\n",
    "# Calcular o total de within-cluster sum of squeres wss para diferentes valores de k\n",
    "\n",
    "wss <- function(k) {\n",
    "\n",
    "\n",
    "    kmeans(clientes_scaled, k, nstart = 10)$tot.withinss\n",
    "\n",
    "}\n",
    "\n",
    "# Definir uma faixa de valores de k\n",
    "\n",
    "k_values <- 1:10\n",
    "\n",
    "# Calcular o wss para cada k\n",
    "\n",
    "wss_values <- map_dbl(k_values, wss)\n",
    "\n",
    "# Plotar o gráfico do Elbow method\n",
    "\n",
    "plot(k_values, wss_values,\n",
    "type = \"b\" , pch = 19, frame = FALSE,\n",
    "xlab = \"Número de Clusters k\",\n",
    "ylab = \"Total de Wss\")\n"
   ]
  },
  {
   "cell_type": "code",
   "execution_count": null,
   "id": "ca75f68e",
   "metadata": {
    "vscode": {
     "languageId": "r"
    }
   },
   "outputs": [],
   "source": [
    "# Aplicar K-means\n",
    "\n",
    "\n",
    "# Aplicar o K-means com 3 clusters\n",
    "\n",
    "\n",
    "set.seed(123) # Manter a reprodutibilidade, se quisesse aleatório não precisava\n",
    "\n",
    "kmeans_result <- kmeans(clientes_scaled, centers= 3, nstart = 25)\n",
    "\n",
    "# Adicionar os rótulos dos clusters ao conjunto de dados original\n",
    "\n",
    "clientes$Cluster <- as.factor(kmeans_result$cluster)\n",
    "\n",
    "#Visualizar as primeiras linhas com os clusters atribuídos\n",
    "\n",
    "head(clientes)"
   ]
  },
  {
   "cell_type": "code",
   "execution_count": null,
   "id": "034ff671",
   "metadata": {
    "vscode": {
     "languageId": "r"
    }
   },
   "outputs": [],
   "source": [
    "# Visualização dos dados dos clusters \n",
    "\n",
    "fviz_cluster(kmeans_result, data = clientes_scaled,\n",
    "geom = \"point\", ellipse.type = \"convex\", ggtheme = theme_minimal()) + \n",
    "labs(title = \"Segmentação de Clientes usando K-means\")"
   ]
  }
 ],
 "metadata": {
  "kernelspec": {
   "display_name": "R",
   "language": "R",
   "name": "ir"
  },
  "language_info": {
   "codemirror_mode": "r",
   "file_extension": ".r",
   "mimetype": "text/x-r-source",
   "name": "R",
   "pygments_lexer": "r",
   "version": "4.5.1"
  }
 },
 "nbformat": 4,
 "nbformat_minor": 5
}
